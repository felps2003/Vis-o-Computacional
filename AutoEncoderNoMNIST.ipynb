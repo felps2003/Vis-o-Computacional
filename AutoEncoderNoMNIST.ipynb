{
  "nbformat": 4,
  "nbformat_minor": 0,
  "metadata": {
    "colab": {
      "provenance": [],
      "authorship_tag": "ABX9TyNr6wW2/KwUQDh6DQQAPO2p",
      "include_colab_link": true
    },
    "kernelspec": {
      "name": "python3",
      "display_name": "Python 3"
    },
    "language_info": {
      "name": "python"
    },
    "accelerator": "GPU",
    "gpuClass": "standard"
  },
  "cells": [
    {
      "cell_type": "markdown",
      "metadata": {
        "id": "view-in-github",
        "colab_type": "text"
      },
      "source": [
        "<a href=\"https://colab.research.google.com/github/felps2003/Vis-o-Computacional/blob/main/AutoEncoderNoMNIST.ipynb\" target=\"_parent\"><img src=\"https://colab.research.google.com/assets/colab-badge.svg\" alt=\"Open In Colab\"/></a>"
      ]
    },
    {
      "cell_type": "markdown",
      "source": [
        "Autoencoder é uma arquitetura de rede neural que é usada para codificar e decodificar dados de entrada. É uma técnica de aprendizado não supervisionado que permite que uma rede neural aprenda a representação latente de uma entrada e gere uma saída semelhante à entrada original.\n",
        "\n",
        "O autoencoder é composto por duas partes principais: o codificador e o decodificador. O codificador recebe uma entrada e a transforma em uma representação latente de menor dimensionalidade, também conhecida como código ou vetor de características. O decodificador recebe esse código e tenta reconstruir a entrada original a partir dele.\n",
        "\n",
        "Durante o treinamento, o autoencoder é alimentado com dados de entrada e é ajustado para minimizar a diferença entre a entrada original e a saída reconstruída. A rede neural é então capaz de aprender uma representação comprimida dos dados de entrada, o que pode ser útil em tarefas de redução de dimensionalidade, compressão de dados e reconstrução de imagens.\n",
        "\n",
        "Os autoencoders são usados em várias aplicações, como compressão de imagens, reconstrução de imagens danificadas, detecção de anomalias em dados, entre outros."
      ],
      "metadata": {
        "id": "yXbHY8W9pb0F"
      }
    },
    {
      "cell_type": "code",
      "execution_count": 3,
      "metadata": {
        "id": "XwaCkM9bo-qC"
      },
      "outputs": [],
      "source": [
        "# Importações importantes\n",
        "\n",
        "import keras\n",
        "import numpy as np\n",
        "import matplotlib.pyplot as plt\n",
        "from keras.datasets import mnist\n",
        "from keras.models import Model \n",
        "from keras.layers import Input, add\n",
        "from keras.layers.core import Dense, Dropout, Activation, Flatten, Reshape\n",
        "from keras import regularizers\n",
        "from keras.utils import np_utils\n"
      ]
    },
    {
      "cell_type": "code",
      "source": [
        "# Carrega o conjunto de treinamento e teste do conjunto de dados MNIST usando a biblioteca Keras\n",
        "# Atribuição múltipla é usada para descompactar os dados em duas tuplas, onde o segundo item de cada tupla é ignorado usando o sinal de sublinhado \"_\"\n",
        "(X_train, _), (X_test, _) = mnist.load_data()\n",
        "\n",
        "# Modifica o formato do conjunto de dados de treinamento \"X_train\" para uma matriz tridimensional usando a função \"reshape()\" do NumPy\n",
        "# A dimensão original de \"X_train\" era (60000, 28, 28), que representa 60.000 imagens de tamanho 28 por 28 pixels\n",
        "# Adiciona uma dimensão adicional de tamanho 1 para cada imagem, tornando o formato final da matriz (60000, 28, 28, 1)\n",
        "X_train = X_train.reshape(X_train.shape[0],28,28,1)\n",
        "\n",
        "# Modifica o formato do conjunto de dados de teste \"X_test\" para uma matriz tridimensional usando a função \"reshape()\" do NumPy\n",
        "# A dimensão original de \"X_test\" era (10000, 28, 28), que representa 10.000 imagens de tamanho 28 por 28 pixels\n",
        "# Adiciona uma dimensão adicional de tamanho 1 para cada imagem, tornando o formato final da matriz (10000, 28, 28, 1)\n",
        "X_test = X_test.reshape(X_test.shape[0],28,28,1)\n"
      ],
      "metadata": {
        "colab": {
          "base_uri": "https://localhost:8080/"
        },
        "id": "9euOIzi7rkSY",
        "outputId": "cc8fa7b3-e453-4348-8137-266e42640991"
      },
      "execution_count": 4,
      "outputs": [
        {
          "output_type": "stream",
          "name": "stdout",
          "text": [
            "Downloading data from https://storage.googleapis.com/tensorflow/tf-keras-datasets/mnist.npz\n",
            "11490434/11490434 [==============================] - 2s 0us/step\n"
          ]
        }
      ]
    },
    {
      "cell_type": "code",
      "source": [
        "# Converte o tipo de dados do conjunto de treinamento \"X_train\" para float32 usando o método \"astype()\" do NumPy\n",
        "# Normaliza os valores dos pixels dividindo-os por 255 para ter uma escala entre 0 e 1\n",
        "X_train = X_train.astype('float32')/255\n",
        "\n",
        "# Converte o tipo de dados do conjunto de teste \"X_test\" para float32 usando o método \"astype()\" do NumPy\n",
        "# Normaliza os valores dos pixels dividindo-os por 255 para ter uma escala entre 0 e 1\n",
        "X_test = X_test.astype('float32')/255\n",
        "\n",
        "# Imprime a forma (dimensão) da matriz \"X_train\"\n",
        "print('Formatado X_train:', X_train.shape)\n",
        "\n",
        "# Imprime o número de amostras de treinamento na matriz \"X_train\"\n",
        "print('Numero de amostras de treino:', X_train.shape[0])\n",
        "\n",
        "# Imprime o número de amostras de teste na matriz \"X_test\"\n",
        "print('Numero de amostras de teste:', X_test.shape[0])\n"
      ],
      "metadata": {
        "colab": {
          "base_uri": "https://localhost:8080/"
        },
        "id": "7CG-A0N7sHzo",
        "outputId": "cc4a39bf-22f7-4ae4-84e5-99adbbfefc82"
      },
      "execution_count": 5,
      "outputs": [
        {
          "output_type": "stream",
          "name": "stdout",
          "text": [
            "Formatado X_train: (60000, 28, 28, 1)\n",
            "Numero de amostras de treino: 60000\n",
            "Numero de amostras de teste: 10000\n"
          ]
        }
      ]
    },
    {
      "cell_type": "code",
      "source": [
        "#ACHATAMENTO\n",
        "\n",
        "# Modifica o formato do conjunto de treinamento \"X_train\" para uma matriz bidimensional usando a função \"reshape()\" do NumPy\n",
        "# A dimensão original de \"X_train\" era (60000, 28, 28, 1), que representa 60.000 imagens de tamanho 28 por 28 pixels\n",
        "# Reduz a matriz a um array unidimensional, multiplicando as dimensões com o método \"np.prod()\"\n",
        "X_train = X_train.reshape((len(X_train), np.prod(X_train.shape[1:])))\n",
        "\n",
        "# Modifica o formato do conjunto de teste \"X_test\" para uma matriz bidimensional usando a função \"reshape()\" do NumPy\n",
        "# A dimensão original de \"X_test\" era (10000, 28, 28, 1), que representa 10.000 imagens de tamanho 28 por 28 pixels\n",
        "# Reduz a matriz a um array unidimensional, multiplicando as dimensões com o método \"np.prod()\"\n",
        "X_test = X_test.reshape((len(X_test), np.prod(X_test.shape[1:])))\n"
      ],
      "metadata": {
        "id": "kTpoPtl1tGPb"
      },
      "execution_count": 6,
      "outputs": []
    },
    {
      "cell_type": "code",
      "source": [
        "# Criação da rede (DBN - Autoencoder)\n",
        "\n",
        "input_size = 784\n",
        "hidden_size = 64\n",
        "output_size = 784"
      ],
      "metadata": {
        "id": "rInBWEOltht6"
      },
      "execution_count": 9,
      "outputs": []
    },
    {
      "cell_type": "code",
      "source": [
        "# entrada -- codificação -- decodificação\n",
        "\n",
        "# Define a entrada do modelo com o tamanho \"input_size\"\n",
        "x = Input(shape=(input_size,))\n",
        "\n",
        "# Adiciona uma camada densa ao modelo com o tamanho \"hidden_size\" e a função de ativação \"relu\"\n",
        "# A camada densa é uma camada de neurônios totalmente conectada\n",
        "h = Dense(hidden_size, activation='relu')(x)\n",
        "\n",
        "# Adiciona uma camada densa ao modelo com o tamanho \"output_size\" e a função de ativação \"sigmoid\"\n",
        "# A camada densa é uma camada de neurônios totalmente conectada\n",
        "r = Dense(output_size, activation='sigmoid')(h)\n",
        "\n",
        "# Cria o modelo autoencoder com as camadas de entrada e saída definidas acima\n",
        "autoencoder = Model(inputs=x, outputs=r)\n",
        "\n",
        "# Compila o modelo autoencoder com o otimizador \"adam\" e a função de perda \"mse\" (erro médio quadrático)\n",
        "autoencoder.compile(optimizer='adam', loss='mse')"
      ],
      "metadata": {
        "id": "eCS06xWuvC_s"
      },
      "execution_count": 12,
      "outputs": []
    },
    {
      "cell_type": "code",
      "source": [
        "# Importação das bibliotecas necessárias\n",
        "from IPython.display import SVG  # biblioteca para exibir a imagem SVG\n",
        "from keras.utils.vis_utils import model_to_dot  # biblioteca para gerar o grafo de conexão\n",
        "\n",
        "# Gera a imagem do grafo de conexão do modelo de autoencoder\n",
        "# e converte em formato SVG\n",
        "SVG(model_to_dot(autoencoder).create(prog='dot', format='svg'))\n"
      ],
      "metadata": {
        "colab": {
          "base_uri": "https://localhost:8080/",
          "height": 361
        },
        "id": "xs3_EG8tv7tW",
        "outputId": "5752f596-5689-41c2-818b-89e77ae0d858"
      },
      "execution_count": 16,
      "outputs": [
        {
          "output_type": "execute_result",
          "data": {
            "text/plain": [
              "<IPython.core.display.SVG object>"
            ],
            "image/svg+xml": "<svg xmlns=\"http://www.w3.org/2000/svg\" xmlns:xlink=\"http://www.w3.org/1999/xlink\" width=\"191pt\" height=\"255pt\" viewBox=\"0.00 0.00 143.00 191.00\">\n<g id=\"graph0\" class=\"graph\" transform=\"scale(0.75 0.75) rotate(0) translate(4 187)\">\n<title>G</title>\n<polygon fill=\"white\" stroke=\"transparent\" points=\"-4,4 -4,-187 139,-187 139,4 -4,4\"/>\n<!-- 140281075339568 -->\n<g id=\"node1\" class=\"node\">\n<title>140281075339568</title>\n<polygon fill=\"none\" stroke=\"black\" points=\"0,-146.5 0,-182.5 135,-182.5 135,-146.5 0,-146.5\"/>\n<text text-anchor=\"middle\" x=\"29\" y=\"-160.8\" font-family=\"Times,serif\" font-size=\"14.00\">input_3</text>\n<polyline fill=\"none\" stroke=\"black\" points=\"58,-146.5 58,-182.5 \"/>\n<text text-anchor=\"middle\" x=\"96.5\" y=\"-160.8\" font-family=\"Times,serif\" font-size=\"14.00\">InputLayer</text>\n</g>\n<!-- 140281075339760 -->\n<g id=\"node2\" class=\"node\">\n<title>140281075339760</title>\n<polygon fill=\"none\" stroke=\"black\" points=\"12,-73.5 12,-109.5 123,-109.5 123,-73.5 12,-73.5\"/>\n<text text-anchor=\"middle\" x=\"42.5\" y=\"-87.8\" font-family=\"Times,serif\" font-size=\"14.00\">dense_4</text>\n<polyline fill=\"none\" stroke=\"black\" points=\"73,-73.5 73,-109.5 \"/>\n<text text-anchor=\"middle\" x=\"98\" y=\"-87.8\" font-family=\"Times,serif\" font-size=\"14.00\">Dense</text>\n</g>\n<!-- 140281075339568&#45;&gt;140281075339760 -->\n<g id=\"edge1\" class=\"edge\">\n<title>140281075339568-&gt;140281075339760</title>\n<path fill=\"none\" stroke=\"black\" d=\"M67.5,-146.31C67.5,-138.29 67.5,-128.55 67.5,-119.57\"/>\n<polygon fill=\"black\" stroke=\"black\" points=\"71,-119.53 67.5,-109.53 64,-119.53 71,-119.53\"/>\n</g>\n<!-- 140281075281344 -->\n<g id=\"node3\" class=\"node\">\n<title>140281075281344</title>\n<polygon fill=\"none\" stroke=\"black\" points=\"12,-0.5 12,-36.5 123,-36.5 123,-0.5 12,-0.5\"/>\n<text text-anchor=\"middle\" x=\"42.5\" y=\"-14.8\" font-family=\"Times,serif\" font-size=\"14.00\">dense_5</text>\n<polyline fill=\"none\" stroke=\"black\" points=\"73,-0.5 73,-36.5 \"/>\n<text text-anchor=\"middle\" x=\"98\" y=\"-14.8\" font-family=\"Times,serif\" font-size=\"14.00\">Dense</text>\n</g>\n<!-- 140281075339760&#45;&gt;140281075281344 -->\n<g id=\"edge2\" class=\"edge\">\n<title>140281075339760-&gt;140281075281344</title>\n<path fill=\"none\" stroke=\"black\" d=\"M67.5,-73.31C67.5,-65.29 67.5,-55.55 67.5,-46.57\"/>\n<polygon fill=\"black\" stroke=\"black\" points=\"71,-46.53 67.5,-36.53 64,-46.53 71,-46.53\"/>\n</g>\n</g>\n</svg>"
          },
          "metadata": {},
          "execution_count": 16
        }
      ]
    },
    {
      "cell_type": "code",
      "source": [
        "# Define o número de épocas e o tamanho do batch para o treinamento\n",
        "epochs = 10\n",
        "batch_size = 128\n",
        "\n",
        "# Treina o modelo de autoencoder com os dados de treinamento\n",
        "# e armazena o histórico de treinamento em 'history'\n",
        "history = autoencoder.fit(\n",
        "    X_train,  # Dados de entrada para treinamento\n",
        "    X_train,  # Rótulos de saída para treinamento (iguais aos dados de entrada)\n",
        "    batch_size=batch_size,  # Tamanho do lote para o treinamento em cada iteração\n",
        "    epochs=epochs,  # Número de épocas de treinamento\n",
        "    verbose=1,  # Exibe informações de progresso durante o treinamento\n",
        "    validation_data=(X_test, X_test)  # Dados de validação para avaliar o desempenho do modelo\n",
        ")\n"
      ],
      "metadata": {
        "colab": {
          "base_uri": "https://localhost:8080/"
        },
        "id": "MpJY_0tvwzSs",
        "outputId": "a0940a92-ba40-4a30-cc3b-e4fde795ff1b"
      },
      "execution_count": 19,
      "outputs": [
        {
          "output_type": "stream",
          "name": "stdout",
          "text": [
            "Epoch 1/10\n",
            "469/469 [==============================] - 2s 4ms/step - loss: 0.0175 - val_loss: 0.0132\n",
            "Epoch 2/10\n",
            "469/469 [==============================] - 2s 3ms/step - loss: 0.0110 - val_loss: 0.0088\n",
            "Epoch 3/10\n",
            "469/469 [==============================] - 2s 5ms/step - loss: 0.0078 - val_loss: 0.0066\n",
            "Epoch 4/10\n",
            "469/469 [==============================] - 1s 3ms/step - loss: 0.0062 - val_loss: 0.0055\n",
            "Epoch 5/10\n",
            "469/469 [==============================] - 1s 3ms/step - loss: 0.0053 - val_loss: 0.0049\n",
            "Epoch 6/10\n",
            "469/469 [==============================] - 1s 3ms/step - loss: 0.0049 - val_loss: 0.0045\n",
            "Epoch 7/10\n",
            "469/469 [==============================] - 1s 3ms/step - loss: 0.0046 - val_loss: 0.0043\n",
            "Epoch 8/10\n",
            "469/469 [==============================] - 1s 3ms/step - loss: 0.0044 - val_loss: 0.0042\n",
            "Epoch 9/10\n",
            "469/469 [==============================] - 1s 3ms/step - loss: 0.0043 - val_loss: 0.0041\n",
            "Epoch 10/10\n",
            "469/469 [==============================] - 2s 3ms/step - loss: 0.0042 - val_loss: 0.0040\n"
          ]
        }
      ]
    },
    {
      "cell_type": "code",
      "source": [
        "# Cria um modelo de codificador convolucional usando 'x' como entrada e 'h' como saída\n",
        "conv_encoder = Model(x, h)\n",
        "\n",
        "# Gera as imagens codificadas usando o modelo de codificador convolucional e os dados de teste\n",
        "encoded_imgs = conv_encoder.predict(X_test)\n",
        "\n",
        "# Define o número de imagens a serem exibidas e configura o tamanho da figura\n",
        "n = 10\n",
        "plt.figure(figsize=(20,8))\n",
        "\n",
        "# Plota as imagens codificadas\n",
        "for i in range(n):\n",
        "    # Define o subplot e exibe a imagem codificada\n",
        "    ax = plt.subplot(1, n, i+1)\n",
        "    plt.imshow(encoded_imgs[i].reshape(4,16).T)\n",
        "    \n",
        "    # Define a cor como escala de cinza\n",
        "    plt.gray()\n",
        "    \n",
        "# Exibe a figura com as imagens codificadas\n",
        "plt.show()\n"
      ],
      "metadata": {
        "colab": {
          "base_uri": "https://localhost:8080/",
          "height": 443
        },
        "id": "G0a-3FyHxF-I",
        "outputId": "c510a03a-1bc7-4a18-aa9a-56dbea97aaf7"
      },
      "execution_count": 21,
      "outputs": [
        {
          "output_type": "stream",
          "name": "stdout",
          "text": [
            "313/313 [==============================] - 0s 1ms/step\n"
          ]
        },
        {
          "output_type": "display_data",
          "data": {
            "text/plain": [
              "<Figure size 1440x576 with 10 Axes>"
            ],
            "image/png": "[encoded data removed]"
          },
          "metadata": {
            "needs_background": "light"
          }
        }
      ]
    },
    {
      "cell_type": "code",
      "source": [
        "# Gera as imagens decodificadas usando o modelo de autoencoder e os dados de teste\n",
        "decoded_imgs = autoencoder.predict(X_test)\n"
      ],
      "metadata": {
        "colab": {
          "base_uri": "https://localhost:8080/"
        },
        "id": "HMaZjtqfyp_H",
        "outputId": "58a22e59-bdf6-4d77-a534-3048474d1ea8"
      },
      "execution_count": 22,
      "outputs": [
        {
          "output_type": "stream",
          "name": "stdout",
          "text": [
            "313/313 [==============================] - 1s 3ms/step\n"
          ]
        }
      ]
    },
    {
      "cell_type": "code",
      "source": [
        "# Define o número de imagens a serem exibidas e configura o tamanho da figura\n",
        "n = 10\n",
        "plt.figure(figsize=(20,6))\n",
        "\n",
        "# Plota as imagens originais e decodificadas\n",
        "for i in range(n):\n",
        "    # Define o subplot e exibe a imagem original\n",
        "    ax = plt.subplot(3, n, i+1)\n",
        "    plt.imshow(X_test[i].reshape(28,28))\n",
        "    \n",
        "    # Define a cor como escala de cinza\n",
        "    plt.gray()\n",
        "    \n",
        "    # Define o subplot e exibe a imagem decodificada\n",
        "    ax = plt.subplot(3, n, i+n+1)\n",
        "    plt.imshow(decoded_imgs[i].reshape(28,28))\n",
        "    \n",
        "    # Define a cor como escala de cinza\n",
        "    plt.gray()\n",
        "\n",
        "# Exibe a figura com as imagens originais e decodificadas\n",
        "plt.show()\n"
      ],
      "metadata": {
        "colab": {
          "base_uri": "https://localhost:8080/",
          "height": 260
        },
        "id": "tta-1hpazaTz",
        "outputId": "db3d045d-99d5-4fb8-f6e7-c2b8ddaf3189"
      },
      "execution_count": 25,
      "outputs": [
        {
          "output_type": "display_data",
          "data": {
            "text/plain": [
              "<Figure size 1440x432 with 20 Axes>"
            ],
            "image/png": "[encoded data removed]"
          },
          "metadata": {
            "needs_background": "light"
          }
        }
      ]
    },
    {
      "cell_type": "code",
      "source": [
        "print(history.history.keys())\n",
        "\n",
        "plt.plot(history.history['loss'])\n",
        "plt.plot(history.history['val_loss'])\n",
        "plt.title('perda do modelo')\n",
        "plt.ylabel('perda')\n",
        "plt.xlabel('epoca')\n",
        "plt.legend(['treinamento', 'validacao'], loc='upper right')\n",
        "plt.show()"
      ],
      "metadata": {
        "colab": {
          "base_uri": "https://localhost:8080/",
          "height": 312
        },
        "id": "_3PpwYThzbov",
        "outputId": "048ba433-fe1b-41ac-98f5-983e2772106c"
      },
      "execution_count": 27,
      "outputs": [
        {
          "output_type": "stream",
          "name": "stdout",
          "text": [
            "dict_keys(['loss', 'val_loss'])\n"
          ]
        },
        {
          "output_type": "display_data",
          "data": {
            "text/plain": [
              "<Figure size 432x288 with 1 Axes>"
            ],
            "image/png": "[encoded data removed]"
          },
          "metadata": {
            "needs_background": "light"
          }
        }
      ]
    },
    {
      "cell_type": "code",
      "source": [],
      "metadata": {
        "id": "LUWtRVQN1sby"
      },
      "execution_count": null,
      "outputs": []
    }
  ]
}